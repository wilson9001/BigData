{
 "cells": [
  {
   "cell_type": "markdown",
   "metadata": {},
   "source": [
    "# Imports"
   ]
  },
  {
   "cell_type": "code",
   "execution_count": 43,
   "metadata": {},
   "outputs": [],
   "source": [
    "import pandas as pd\n",
    "from sklearn.ensemble import RandomForestClassifier\n",
    "from sklearn.model_selection import train_test_split\n",
    "from sklearn.metrics import roc_curve"
   ]
  },
  {
   "cell_type": "markdown",
   "metadata": {},
   "source": [
    "# Prepare Data"
   ]
  },
  {
   "cell_type": "code",
   "execution_count": 44,
   "metadata": {},
   "outputs": [],
   "source": [
    "data = pd.read_csv(\"magic04.csv\")\n",
    "\n",
    "features = data.iloc[:, :-1]\n",
    "labels = data['class']\n",
    "\n",
    "trainFeatures, testFeatures, trainLabels, testLabels = train_test_split(features, labels)"
   ]
  },
  {
   "cell_type": "markdown",
   "metadata": {},
   "source": [
    "# Create Random Forest"
   ]
  },
  {
   "cell_type": "code",
   "execution_count": 75,
   "metadata": {},
   "outputs": [
    {
     "name": "stdout",
     "output_type": "stream",
     "text": [
      "The best forest is RandomForestClassifier(bootstrap=True, class_weight=None, criterion='gini',\n",
      "                       max_depth=None, max_features='auto', max_leaf_nodes=None,\n",
      "                       min_impurity_decrease=0.0, min_impurity_split=None,\n",
      "                       min_samples_leaf=1, min_samples_split=2,\n",
      "                       min_weight_fraction_leaf=0.0, n_estimators=2, n_jobs=-1,\n",
      "                       oob_score=False, random_state=None, verbose=0,\n",
      "                       warm_start=False) with a false positive rate of 0.04598445595854922\n"
     ]
    }
   ],
   "source": [
    "bestForest = None\n",
    "bestFalsePositiveRate = 1\n",
    "\n",
    "for attempt in range(10):\n",
    "    for forestSize in range(1, 50):\n",
    "        ensemble = RandomForestClassifier(n_estimators = forestSize, n_jobs = -1).fit(trainFeatures, trainLabels)\n",
    "        testFalsePositiveRates, testTruePositiveRates, testThresholds = roc_curve(testLabels, ensemble.predict(testFeatures), pos_label=1)\n",
    "        if testFalsePositiveRates[1] < bestFalsePositiveRate:\n",
    "            bestForest = ensemble\n",
    "            bestFalsePositiveRate = testFalsePositiveRates[1]\n",
    "\n",
    "print(\"The best forest is\", bestForest, \"with a false positive rate of\", bestFalsePositiveRate)"
   ]
  },
  {
   "cell_type": "markdown",
   "metadata": {},
   "source": [
    "# Predict All Data Points"
   ]
  },
  {
   "cell_type": "code",
   "execution_count": 83,
   "metadata": {},
   "outputs": [],
   "source": [
    "allPredictions = bestForest.predict(features)\n",
    "\n",
    "allPredictions = pd.DataFrame({'Id': range(len(data)), 'Predicted': allPredictions})\n",
    "\n",
    "allPredictions.to_csv('AlexanderWilsonSubmission.csv', index = False)"
   ]
  }
 ],
 "metadata": {
  "kernelspec": {
   "display_name": "Python 3",
   "language": "python",
   "name": "python3"
  },
  "language_info": {
   "codemirror_mode": {
    "name": "ipython",
    "version": 3
   },
   "file_extension": ".py",
   "mimetype": "text/x-python",
   "name": "python",
   "nbconvert_exporter": "python",
   "pygments_lexer": "ipython3",
   "version": "3.7.5rc1"
  }
 },
 "nbformat": 4,
 "nbformat_minor": 2
}
